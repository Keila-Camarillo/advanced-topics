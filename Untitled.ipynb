{
 "cells": [
  {
   "cell_type": "code",
   "execution_count": 2,
   "id": "53a9e74e",
   "metadata": {},
   "outputs": [],
   "source": [
    "from selenium import webdriver\n",
    "from selenium.webdriver.chrome.service import Service\n",
    "from selenium.webdriver.common.keys import Keys\n",
    "from selenium.webdriver.common.by import By\n",
    "from selenium.webdriver.common.action_chains import ActionChains\n",
    "from selenium.webdriver.support.ui import Select, WebDriverWait\n",
    "from selenium.webdriver.support import expected_conditions as EC\n",
    "\n",
    "from webdriver_manager.chrome import ChromeDriverManager\n",
    "\n",
    "import time as t\n",
    "import os"
   ]
  },
  {
   "cell_type": "markdown",
   "id": "c109b45d",
   "metadata": {},
   "source": [
    "1. Make a function that will download all of the sql files listed in your `database-exercises` repo."
   ]
  },
  {
   "cell_type": "code",
   "execution_count": 2,
   "id": "56968d8d",
   "metadata": {},
   "outputs": [],
   "source": [
    "# create variables\n",
    "user = os.getenv(\"githubUSER\")\n",
    "pswd = os.getenv(\"githubPSWD\")\n",
    "                 \n",
    "base_url = \"https://github.com/\"\n",
    "                 "
   ]
  },
  {
   "cell_type": "code",
   "execution_count": 3,
   "id": "93c1a8d0",
   "metadata": {},
   "outputs": [],
   "source": [
    "# Create a webdriver object \n",
    "\n",
    "driver = webdriver.Chrome(service=Service())"
   ]
  },
  {
   "cell_type": "code",
   "execution_count": 4,
   "id": "66c010b3",
   "metadata": {},
   "outputs": [],
   "source": [
    "# Let's open up a website!\n",
    "\n",
    "driver.get(base_url+\"login\")"
   ]
  },
  {
   "cell_type": "code",
   "execution_count": 3,
   "id": "d6635556",
   "metadata": {},
   "outputs": [],
   "source": [
    "def git_sign_web(username = \"githubUSER\", password = \"githubPSWD\"):\n",
    "    # create variables\n",
    "    user = os.getenv(username)\n",
    "    pswd = os.getenv(password)\n",
    "\n",
    "    base_url = \"https://github.com/\"\n",
    "    \n",
    "    driver = webdriver.Chrome(service=Service()) # Create a webdriver object \n",
    "    \n",
    "    driver.get(base_url+\"login\") # open website\n",
    "    driver.maximize_window() #  maximize window \n",
    "    \n",
    "    # Enter username, password and sign in button click\n",
    "    driver.find_element(By.NAME, \"login\").send_keys(user)\n",
    "    driver.find_element(By.NAME, \"password\").send_keys(pswd)\n",
    "    driver.find_element(By.NAME, \"commit\").click()\n",
    "    \n",
    "    return driver\n",
    "\n",
    "def get_sql(base_url = \"https://github.com/\", user= \"Keila-Camarillo\"):\n",
    "\n",
    "    driver = git_sign_web() # function that creates driver \n",
    "    t.sleep(1)\n",
    "\n",
    "    driver.get(base_url+user+\"/database-exercises\")     # navigate to database-exercises repo\n",
    "    t.sleep(1)\n",
    "\n",
    "    base = driver.find_elements(By.XPATH, \"//a [@class='js-navigation-open Link--primary']\")[1]\n",
    "    t.sleep(1)\n",
    "\n",
    "    ActionChains(driver).move_to_element(base).perform()\n",
    "    t.sleep(1)\n",
    "    \n",
    "    base.click()\n",
    "    t.sleep(1)\n",
    "\n",
    "\n",
    "    # dl button for first page\n",
    "    dlbutton = driver.find_elements(By.XPATH, \"//button[@data-component='IconButton']\")[6]\n",
    "    t.sleep(1)\n",
    "    ActionChains(driver).move_to_element(dlbutton).perform()\n",
    "    t.sleep(1)\n",
    "    \n",
    "    # download the file\n",
    "    dlbutton.click()\n",
    "    t.sleep(2)\n",
    "    \n",
    "    # cycle through the remaining files except Readme\n",
    "    for i in range(1, len(driver.find_elements(By.XPATH, \"//span[@class='PRIVATE_TreeView-item-content-text']\"))-1):\n",
    "        # link creates the directional path for the next selected file and clicks on each page\n",
    "        link = driver.find_elements(By.XPATH, \"//span[@class='PRIVATE_TreeView-item-content-text']\")[i+1]\n",
    "        ActionChains(driver).move_to_element(link).perform()\n",
    "        link.click()\n",
    "\n",
    "        # selects dowload button and downloads file\n",
    "        dlbutton = driver.find_elements(By.XPATH, \"//button[@data-component='IconButton']\")[6]\n",
    "\n",
    "        ActionChains(driver).move_to_element(dlbutton).perform()\n",
    "\n",
    "        # download the file\n",
    "        dlbutton.click()\n",
    "        t.sleep(2)\n",
    "    # Close the driver when done`\n",
    "    driver.quit()\n"
   ]
  },
  {
   "cell_type": "code",
   "execution_count": null,
   "id": "a97ce45d",
   "metadata": {},
   "outputs": [],
   "source": [
    "get_sql()"
   ]
  },
  {
   "cell_type": "markdown",
   "id": "c8f50013",
   "metadata": {},
   "source": [
    "2. Pick one more repo to download all ipynb's (**only**) from and turn that into a second function. \n",
    "\n",
    "**BONUS**: turn this functions into a py script you can run directly in terminal."
   ]
  },
  {
   "cell_type": "code",
   "execution_count": null,
   "id": "c4b6efbd",
   "metadata": {},
   "outputs": [],
   "source": [
    "def get_cluster(base_url = \"https://github.com/\", user= \"Keila-Camarillo\"):\n",
    "\n",
    "    driver = git_sign_web() # function that creates driver \n",
    "    \n",
    "    driver.get(base_url+user+\"/clustering_excercises\")     # navigate to database-exercises repo\n",
    "\n",
    "    base = driver.find_elements(By.XPATH, \"//a [@class='js-navigation-open Link--primary']\")[1]    \n",
    "    ActionChains(driver).move_to_element(base).perform()\n",
    "    t.sleep(1)\n",
    "    base.click()\n",
    "    t.sleep(1)\n",
    "\n",
    "    # dl button for first page\n",
    "    dlbutton = driver.find_elements(By.XPATH, \"//button[@data-component='IconButton']\")[6]\n",
    "    t.sleep(1)\n",
    "    ActionChains(driver).move_to_element(dlbutton).perform()\n",
    "    t.sleep(2)\n",
    "    \n",
    "    # download the file\n",
    "    dlbutton.click()\n",
    "    t.sleep(2)\n",
    "    \n",
    "\n",
    "    \n",
    "    # cycle through the remaining files except Readme\n",
    "    for i in range(1, len(driver.find_elements(By.XPATH, \"//span[@class='PRIVATE_TreeView-item-content-text']\"))-1):\n",
    "        # link creates the directional path for the next selected file and clicks on each page\n",
    "        link = driver.find_elements(By.XPATH, \"//span[@class='PRIVATE_TreeView-item-content-text']\")[i+1]\n",
    "        ActionChains(driver).move_to_element(link).perform()\n",
    "        link.click()\n",
    "\n",
    "        # selects dowload button and downloads file\n",
    "        dlbutton = driver.find_elements(By.XPATH, \"//button[@data-component='IconButton']\")[6]\n",
    "\n",
    "        ActionChains(driver).move_to_element(dlbutton).perform()\n",
    "\n",
    "        # download the file\n",
    "        dlbutton.click()\n",
    "        t.sleep(2)\n",
    "    # Close the driver when done`\n",
    "    driver.quit()"
   ]
  },
  {
   "cell_type": "code",
   "execution_count": 12,
   "id": "609aa55d",
   "metadata": {},
   "outputs": [],
   "source": [
    "\n",
    "driver = git_sign_web() # function that creates driver \n",
    "base_url = \"https://github.com/\"\n",
    "user= \"Keila-Camarillo\"\n",
    "driver.get(base_url+user+\"/clustering_excercises\")     # navigate to database-exercises repo\n",
    "t.sleep(2)\n",
    "\n",
    "\n",
    "\n",
    "\n",
    "\n",
    "\n"
   ]
  },
  {
   "cell_type": "code",
   "execution_count": 25,
   "id": "82cb70dc",
   "metadata": {},
   "outputs": [
    {
     "ename": "StaleElementReferenceException",
     "evalue": "Message: stale element reference: stale element not found\n  (Session info: chrome=114.0.5735.198); For documentation on this error, please visit: https://www.selenium.dev/documentation/webdriver/troubleshooting/errors#stale-element-reference-exception\nStacktrace:\n0   chromedriver                        0x00000001074c76b8 chromedriver + 4937400\n1   chromedriver                        0x00000001074beb73 chromedriver + 4901747\n2   chromedriver                        0x000000010707c616 chromedriver + 435734\n3   chromedriver                        0x0000000107081adf chromedriver + 457439\n4   chromedriver                        0x0000000107083b87 chromedriver + 465799\n5   chromedriver                        0x0000000107083c8c chromedriver + 466060\n6   chromedriver                        0x00000001070b9c12 chromedriver + 687122\n7   chromedriver                        0x00000001070e4012 chromedriver + 860178\n8   chromedriver                        0x00000001070b39c1 chromedriver + 661953\n9   chromedriver                        0x00000001070e41ce chromedriver + 860622\n10  chromedriver                        0x00000001070fee76 chromedriver + 970358\n11  chromedriver                        0x00000001070e3de3 chromedriver + 859619\n12  chromedriver                        0x00000001070b1d7f chromedriver + 654719\n13  chromedriver                        0x00000001070b30de chromedriver + 659678\n14  chromedriver                        0x00000001074832ad chromedriver + 4657837\n15  chromedriver                        0x0000000107488130 chromedriver + 4677936\n16  chromedriver                        0x000000010748edef chromedriver + 4705775\n17  chromedriver                        0x000000010748905a chromedriver + 4681818\n18  chromedriver                        0x000000010745b92c chromedriver + 4495660\n19  chromedriver                        0x00000001074a6838 chromedriver + 4802616\n20  chromedriver                        0x00000001074a69b7 chromedriver + 4802999\n21  chromedriver                        0x00000001074b799f chromedriver + 4872607\n22  libsystem_pthread.dylib             0x00007ff8076f5259 _pthread_start + 125\n23  libsystem_pthread.dylib             0x00007ff8076f0c7b thread_start + 15\n",
     "output_type": "error",
     "traceback": [
      "\u001b[0;31m---------------------------------------------------------------------------\u001b[0m",
      "\u001b[0;31mStaleElementReferenceException\u001b[0m            Traceback (most recent call last)",
      "\u001b[0;32m/var/folders/bf/lhpb5n_j1xj4msxy6nrm9h7h0000gn/T/ipykernel_15173/3092703745.py\u001b[0m in \u001b[0;36m<module>\u001b[0;34m\u001b[0m\n\u001b[1;32m      2\u001b[0m \u001b[0;32mfor\u001b[0m \u001b[0mi\u001b[0m \u001b[0;32min\u001b[0m \u001b[0mdriver\u001b[0m\u001b[0;34m.\u001b[0m\u001b[0mfind_elements\u001b[0m\u001b[0;34m(\u001b[0m\u001b[0mBy\u001b[0m\u001b[0;34m.\u001b[0m\u001b[0mXPATH\u001b[0m\u001b[0;34m,\u001b[0m \u001b[0;34m\"//a [@class='js-navigation-open Link--primary']\"\u001b[0m\u001b[0;34m)\u001b[0m\u001b[0;34m:\u001b[0m\u001b[0;34m\u001b[0m\u001b[0;34m\u001b[0m\u001b[0m\n\u001b[1;32m      3\u001b[0m \u001b[0;34m\u001b[0m\u001b[0m\n\u001b[0;32m----> 4\u001b[0;31m     \u001b[0;32mif\u001b[0m \u001b[0;34m\"ipynb\"\u001b[0m \u001b[0;32min\u001b[0m \u001b[0mi\u001b[0m\u001b[0;34m.\u001b[0m\u001b[0mtext\u001b[0m\u001b[0;34m:\u001b[0m\u001b[0;34m\u001b[0m\u001b[0;34m\u001b[0m\u001b[0m\n\u001b[0m\u001b[1;32m      5\u001b[0m         \u001b[0mlst\u001b[0m\u001b[0;34m.\u001b[0m\u001b[0mappend\u001b[0m\u001b[0;34m(\u001b[0m\u001b[0mi\u001b[0m\u001b[0;34m)\u001b[0m\u001b[0;34m\u001b[0m\u001b[0;34m\u001b[0m\u001b[0m\n\u001b[1;32m      6\u001b[0m \u001b[0;34m\u001b[0m\u001b[0m\n",
      "\u001b[0;32m/usr/local/anaconda3/lib/python3.9/site-packages/selenium/webdriver/remote/webelement.py\u001b[0m in \u001b[0;36mtext\u001b[0;34m(self)\u001b[0m\n\u001b[1;32m     88\u001b[0m     \u001b[0;32mdef\u001b[0m \u001b[0mtext\u001b[0m\u001b[0;34m(\u001b[0m\u001b[0mself\u001b[0m\u001b[0;34m)\u001b[0m \u001b[0;34m->\u001b[0m \u001b[0mstr\u001b[0m\u001b[0;34m:\u001b[0m\u001b[0;34m\u001b[0m\u001b[0;34m\u001b[0m\u001b[0m\n\u001b[1;32m     89\u001b[0m         \u001b[0;34m\"\"\"The text of the element.\"\"\"\u001b[0m\u001b[0;34m\u001b[0m\u001b[0;34m\u001b[0m\u001b[0m\n\u001b[0;32m---> 90\u001b[0;31m         \u001b[0;32mreturn\u001b[0m \u001b[0mself\u001b[0m\u001b[0;34m.\u001b[0m\u001b[0m_execute\u001b[0m\u001b[0;34m(\u001b[0m\u001b[0mCommand\u001b[0m\u001b[0;34m.\u001b[0m\u001b[0mGET_ELEMENT_TEXT\u001b[0m\u001b[0;34m)\u001b[0m\u001b[0;34m[\u001b[0m\u001b[0;34m\"value\"\u001b[0m\u001b[0;34m]\u001b[0m\u001b[0;34m\u001b[0m\u001b[0;34m\u001b[0m\u001b[0m\n\u001b[0m\u001b[1;32m     91\u001b[0m \u001b[0;34m\u001b[0m\u001b[0m\n\u001b[1;32m     92\u001b[0m     \u001b[0;32mdef\u001b[0m \u001b[0mclick\u001b[0m\u001b[0;34m(\u001b[0m\u001b[0mself\u001b[0m\u001b[0;34m)\u001b[0m \u001b[0;34m->\u001b[0m \u001b[0;32mNone\u001b[0m\u001b[0;34m:\u001b[0m\u001b[0;34m\u001b[0m\u001b[0;34m\u001b[0m\u001b[0m\n",
      "\u001b[0;32m/usr/local/anaconda3/lib/python3.9/site-packages/selenium/webdriver/remote/webelement.py\u001b[0m in \u001b[0;36m_execute\u001b[0;34m(self, command, params)\u001b[0m\n\u001b[1;32m    393\u001b[0m             \u001b[0mparams\u001b[0m \u001b[0;34m=\u001b[0m \u001b[0;34m{\u001b[0m\u001b[0;34m}\u001b[0m\u001b[0;34m\u001b[0m\u001b[0;34m\u001b[0m\u001b[0m\n\u001b[1;32m    394\u001b[0m         \u001b[0mparams\u001b[0m\u001b[0;34m[\u001b[0m\u001b[0;34m\"id\"\u001b[0m\u001b[0;34m]\u001b[0m \u001b[0;34m=\u001b[0m \u001b[0mself\u001b[0m\u001b[0;34m.\u001b[0m\u001b[0m_id\u001b[0m\u001b[0;34m\u001b[0m\u001b[0;34m\u001b[0m\u001b[0m\n\u001b[0;32m--> 395\u001b[0;31m         \u001b[0;32mreturn\u001b[0m \u001b[0mself\u001b[0m\u001b[0;34m.\u001b[0m\u001b[0m_parent\u001b[0m\u001b[0;34m.\u001b[0m\u001b[0mexecute\u001b[0m\u001b[0;34m(\u001b[0m\u001b[0mcommand\u001b[0m\u001b[0;34m,\u001b[0m \u001b[0mparams\u001b[0m\u001b[0;34m)\u001b[0m\u001b[0;34m\u001b[0m\u001b[0;34m\u001b[0m\u001b[0m\n\u001b[0m\u001b[1;32m    396\u001b[0m \u001b[0;34m\u001b[0m\u001b[0m\n\u001b[1;32m    397\u001b[0m     \u001b[0;32mdef\u001b[0m \u001b[0mfind_element\u001b[0m\u001b[0;34m(\u001b[0m\u001b[0mself\u001b[0m\u001b[0;34m,\u001b[0m \u001b[0mby\u001b[0m\u001b[0;34m=\u001b[0m\u001b[0mBy\u001b[0m\u001b[0;34m.\u001b[0m\u001b[0mID\u001b[0m\u001b[0;34m,\u001b[0m \u001b[0mvalue\u001b[0m\u001b[0;34m=\u001b[0m\u001b[0;32mNone\u001b[0m\u001b[0;34m)\u001b[0m \u001b[0;34m->\u001b[0m \u001b[0mWebElement\u001b[0m\u001b[0;34m:\u001b[0m\u001b[0;34m\u001b[0m\u001b[0;34m\u001b[0m\u001b[0m\n",
      "\u001b[0;32m/usr/local/anaconda3/lib/python3.9/site-packages/selenium/webdriver/remote/webdriver.py\u001b[0m in \u001b[0;36mexecute\u001b[0;34m(self, driver_command, params)\u001b[0m\n\u001b[1;32m    344\u001b[0m         \u001b[0mresponse\u001b[0m \u001b[0;34m=\u001b[0m \u001b[0mself\u001b[0m\u001b[0;34m.\u001b[0m\u001b[0mcommand_executor\u001b[0m\u001b[0;34m.\u001b[0m\u001b[0mexecute\u001b[0m\u001b[0;34m(\u001b[0m\u001b[0mdriver_command\u001b[0m\u001b[0;34m,\u001b[0m \u001b[0mparams\u001b[0m\u001b[0;34m)\u001b[0m\u001b[0;34m\u001b[0m\u001b[0;34m\u001b[0m\u001b[0m\n\u001b[1;32m    345\u001b[0m         \u001b[0;32mif\u001b[0m \u001b[0mresponse\u001b[0m\u001b[0;34m:\u001b[0m\u001b[0;34m\u001b[0m\u001b[0;34m\u001b[0m\u001b[0m\n\u001b[0;32m--> 346\u001b[0;31m             \u001b[0mself\u001b[0m\u001b[0;34m.\u001b[0m\u001b[0merror_handler\u001b[0m\u001b[0;34m.\u001b[0m\u001b[0mcheck_response\u001b[0m\u001b[0;34m(\u001b[0m\u001b[0mresponse\u001b[0m\u001b[0;34m)\u001b[0m\u001b[0;34m\u001b[0m\u001b[0;34m\u001b[0m\u001b[0m\n\u001b[0m\u001b[1;32m    347\u001b[0m             \u001b[0mresponse\u001b[0m\u001b[0;34m[\u001b[0m\u001b[0;34m\"value\"\u001b[0m\u001b[0;34m]\u001b[0m \u001b[0;34m=\u001b[0m \u001b[0mself\u001b[0m\u001b[0;34m.\u001b[0m\u001b[0m_unwrap_value\u001b[0m\u001b[0;34m(\u001b[0m\u001b[0mresponse\u001b[0m\u001b[0;34m.\u001b[0m\u001b[0mget\u001b[0m\u001b[0;34m(\u001b[0m\u001b[0;34m\"value\"\u001b[0m\u001b[0;34m,\u001b[0m \u001b[0;32mNone\u001b[0m\u001b[0;34m)\u001b[0m\u001b[0;34m)\u001b[0m\u001b[0;34m\u001b[0m\u001b[0;34m\u001b[0m\u001b[0m\n\u001b[1;32m    348\u001b[0m             \u001b[0;32mreturn\u001b[0m \u001b[0mresponse\u001b[0m\u001b[0;34m\u001b[0m\u001b[0;34m\u001b[0m\u001b[0m\n",
      "\u001b[0;32m/usr/local/anaconda3/lib/python3.9/site-packages/selenium/webdriver/remote/errorhandler.py\u001b[0m in \u001b[0;36mcheck_response\u001b[0;34m(self, response)\u001b[0m\n\u001b[1;32m    243\u001b[0m                 \u001b[0malert_text\u001b[0m \u001b[0;34m=\u001b[0m \u001b[0mvalue\u001b[0m\u001b[0;34m[\u001b[0m\u001b[0;34m\"alert\"\u001b[0m\u001b[0;34m]\u001b[0m\u001b[0;34m.\u001b[0m\u001b[0mget\u001b[0m\u001b[0;34m(\u001b[0m\u001b[0;34m\"text\"\u001b[0m\u001b[0;34m)\u001b[0m\u001b[0;34m\u001b[0m\u001b[0;34m\u001b[0m\u001b[0m\n\u001b[1;32m    244\u001b[0m             \u001b[0;32mraise\u001b[0m \u001b[0mexception_class\u001b[0m\u001b[0;34m(\u001b[0m\u001b[0mmessage\u001b[0m\u001b[0;34m,\u001b[0m \u001b[0mscreen\u001b[0m\u001b[0;34m,\u001b[0m \u001b[0mstacktrace\u001b[0m\u001b[0;34m,\u001b[0m \u001b[0malert_text\u001b[0m\u001b[0;34m)\u001b[0m  \u001b[0;31m# type: ignore[call-arg]  # mypy is not smart enough here\u001b[0m\u001b[0;34m\u001b[0m\u001b[0;34m\u001b[0m\u001b[0m\n\u001b[0;32m--> 245\u001b[0;31m         \u001b[0;32mraise\u001b[0m \u001b[0mexception_class\u001b[0m\u001b[0;34m(\u001b[0m\u001b[0mmessage\u001b[0m\u001b[0;34m,\u001b[0m \u001b[0mscreen\u001b[0m\u001b[0;34m,\u001b[0m \u001b[0mstacktrace\u001b[0m\u001b[0;34m)\u001b[0m\u001b[0;34m\u001b[0m\u001b[0;34m\u001b[0m\u001b[0m\n\u001b[0m",
      "\u001b[0;31mStaleElementReferenceException\u001b[0m: Message: stale element reference: stale element not found\n  (Session info: chrome=114.0.5735.198); For documentation on this error, please visit: https://www.selenium.dev/documentation/webdriver/troubleshooting/errors#stale-element-reference-exception\nStacktrace:\n0   chromedriver                        0x00000001074c76b8 chromedriver + 4937400\n1   chromedriver                        0x00000001074beb73 chromedriver + 4901747\n2   chromedriver                        0x000000010707c616 chromedriver + 435734\n3   chromedriver                        0x0000000107081adf chromedriver + 457439\n4   chromedriver                        0x0000000107083b87 chromedriver + 465799\n5   chromedriver                        0x0000000107083c8c chromedriver + 466060\n6   chromedriver                        0x00000001070b9c12 chromedriver + 687122\n7   chromedriver                        0x00000001070e4012 chromedriver + 860178\n8   chromedriver                        0x00000001070b39c1 chromedriver + 661953\n9   chromedriver                        0x00000001070e41ce chromedriver + 860622\n10  chromedriver                        0x00000001070fee76 chromedriver + 970358\n11  chromedriver                        0x00000001070e3de3 chromedriver + 859619\n12  chromedriver                        0x00000001070b1d7f chromedriver + 654719\n13  chromedriver                        0x00000001070b30de chromedriver + 659678\n14  chromedriver                        0x00000001074832ad chromedriver + 4657837\n15  chromedriver                        0x0000000107488130 chromedriver + 4677936\n16  chromedriver                        0x000000010748edef chromedriver + 4705775\n17  chromedriver                        0x000000010748905a chromedriver + 4681818\n18  chromedriver                        0x000000010745b92c chromedriver + 4495660\n19  chromedriver                        0x00000001074a6838 chromedriver + 4802616\n20  chromedriver                        0x00000001074a69b7 chromedriver + 4802999\n21  chromedriver                        0x00000001074b799f chromedriver + 4872607\n22  libsystem_pthread.dylib             0x00007ff8076f5259 _pthread_start + 125\n23  libsystem_pthread.dylib             0x00007ff8076f0c7b thread_start + 15\n"
     ]
    }
   ],
   "source": [
    "lst = []\n",
    "for i in driver.find_elements(By.XPATH, \"//a [@class='js-navigation-open Link--primary']\"):\n",
    "\n",
    "    if \"ipynb\" in i.text:\n",
    "        lst.append(i)\n",
    "        \n",
    "        for l in lst:\n",
    "            ActionChains(driver).move_to_element(l).perform()\n",
    "            t.sleep(2)\n",
    "            i.click()\n",
    "            t.sleep(2)\n",
    "            # dl button for first page\n",
    "            dlbutton = driver.find_elements(By.XPATH, \"//button[@data-component='IconButton']\")[6]\n",
    "            t.sleep(2)\n",
    "            ActionChains(driver).move_to_element(dlbutton).perform()\n",
    "            t.sleep(2)\n",
    "\n",
    "            # download the file\n",
    "            dlbutton.click()\n",
    "            t.sleep(2)\n",
    "            driver.back()\n",
    "            \n",
    "    else:\n",
    "        continue\n",
    "#     print(lst)\n",
    "#         ActionChains(driver).move_to_element(i).perform()\n",
    "#         t.sleep(1)\n",
    "#         i.click()\n",
    "#         t.sleep(1)\n",
    "#         # dl button for first page\n",
    "#         dlbutton = driver.find_elements(By.XPATH, \"//button[@data-component='IconButton']\")[6]\n",
    "#         t.sleep(1)\n",
    "#         ActionChains(driver).move_to_element(dlbutton).perform()\n",
    "#         t.sleep(2)\n",
    "\n",
    "#         # download the file\n",
    "#         dlbutton.click()\n",
    "#         t.sleep(2)\n",
    "#         driver.back()\n",
    "# #     else:\n",
    "#         continue\n",
    "#         # cycle through the remaining files except Readme\n",
    "#         for i in range(1, len(driver.find_elements(By.XPATH, \"//span[@class='PRIVATE_TreeView-item-content-text']\"))-1):\n",
    "#             # link creates the directional path for the next selected file and clicks on each page\n",
    "#             link = driver.find_elements(By.XPATH, \"//span[@class='PRIVATE_TreeView-item-content-text']\")[i+1]\n",
    "#             ActionChains(driver).move_to_element(link).perform()\n",
    "#             link.click()\n",
    "\n",
    "#             # selects dowload button and downloads file\n",
    "#             dlbutton = driver.find_elements(By.XPATH, \"//button[@data-component='IconButton']\")[6]\n",
    "\n",
    "#             ActionChains(driver).move_to_element(dlbutton).perform()\n",
    "\n",
    "#             # download the file\n",
    "#             dlbutton.click()\n",
    "#             t.sleep(2)\n",
    "#         driver.quit()\n"
   ]
  },
  {
   "cell_type": "code",
   "execution_count": 23,
   "id": "db3a22e2",
   "metadata": {},
   "outputs": [
    {
     "data": {
      "text/plain": [
       "[<selenium.webdriver.remote.webelement.WebElement (session=\"f56dc4068b9427207eaef1dc6e841fef\", element=\"70F069DF87EF5B419CB962AD6DB98227_element_432\")>,\n",
       " <selenium.webdriver.remote.webelement.WebElement (session=\"f56dc4068b9427207eaef1dc6e841fef\", element=\"70F069DF87EF5B419CB962AD6DB98227_element_435\")>,\n",
       " <selenium.webdriver.remote.webelement.WebElement (session=\"f56dc4068b9427207eaef1dc6e841fef\", element=\"70F069DF87EF5B419CB962AD6DB98227_element_436\")>,\n",
       " <selenium.webdriver.remote.webelement.WebElement (session=\"f56dc4068b9427207eaef1dc6e841fef\", element=\"70F069DF87EF5B419CB962AD6DB98227_element_438\")>,\n",
       " <selenium.webdriver.remote.webelement.WebElement (session=\"f56dc4068b9427207eaef1dc6e841fef\", element=\"70F069DF87EF5B419CB962AD6DB98227_element_439\")>]"
      ]
     },
     "execution_count": 23,
     "metadata": {},
     "output_type": "execute_result"
    }
   ],
   "source": [
    "lst"
   ]
  },
  {
   "cell_type": "code",
   "execution_count": null,
   "id": "750693c9",
   "metadata": {},
   "outputs": [],
   "source": [
    "base = driver.find_elements(By.XPATH, \"//a [@class='js-navigation-open Link--primary']\")[1]"
   ]
  },
  {
   "cell_type": "code",
   "execution_count": null,
   "id": "92040924",
   "metadata": {},
   "outputs": [],
   "source": [
    "base_txt = base.text\n",
    "if \"ipynb\" in base_txt:\n",
    "    ActionChains(driver).move_to_element(base).perform()\n",
    "    t.sleep(1)\n",
    "    base.click()\n",
    "    t.sleep(1)\n",
    "    # dl button for first page\n",
    "    dlbutton = driver.find_elements(By.XPATH, \"//button[@data-component='IconButton']\")[6]\n",
    "    t.sleep(1)\n",
    "    ActionChains(driver).move_to_element(dlbutton).perform()\n",
    "    t.sleep(2)\n",
    "\n",
    "    # download the file\n",
    "    dlbutton.click()\n",
    "    t.sleep(2)\n",
    "    # cycle through the remaining files except Readme\n",
    "    for i in range(1, len(driver.find_elements(By.XPATH, \"//span[@class='PRIVATE_TreeView-item-content-text']\"))-1):\n",
    "        # link creates the directional path for the next selected file and clicks on each page\n",
    "        link = driver.find_elements(By.XPATH, \"//span[@class='PRIVATE_TreeView-item-content-text']\")[i+1]\n",
    "        ActionChains(driver).move_to_element(link).perform()\n",
    "        link.click()\n",
    "\n",
    "        # selects dowload button and downloads file\n",
    "        dlbutton = driver.find_elements(By.XPATH, \"//button[@data-component='IconButton']\")[6]\n",
    "\n",
    "        ActionChains(driver).move_to_element(dlbutton).perform()\n",
    "\n",
    "        # download the file\n",
    "        dlbutton.click()\n",
    "        t.sleep(2)\n",
    "else: \n",
    "    \n"
   ]
  },
  {
   "cell_type": "code",
   "execution_count": null,
   "id": "c858e3c3",
   "metadata": {},
   "outputs": [],
   "source": [
    "if \"ipynb\" in base_txt:\n",
    "    print(\"found\")"
   ]
  },
  {
   "cell_type": "code",
   "execution_count": null,
   "id": "ad62c641",
   "metadata": {},
   "outputs": [],
   "source": [
    "\n",
    "\n",
    "ActionChains(driver).move_to_element(base).perform()\n",
    "t.sleep(1)\n",
    "base.click()\n",
    "t.sleep(1)\n",
    "\n",
    "# dl button for first page\n",
    "dlbutton = driver.find_elements(By.XPATH, \"//button[@data-component='IconButton']\")[6]\n",
    "t.sleep(1)\n",
    "ActionChains(driver).move_to_element(dlbutton).perform()\n",
    "t.sleep(2)\n",
    "\n",
    "# download the file\n",
    "dlbutton.click()\n",
    "t.sleep(2)"
   ]
  },
  {
   "cell_type": "code",
   "execution_count": null,
   "id": "b1c2dd6e",
   "metadata": {},
   "outputs": [],
   "source": [
    "driver.find_elements(By.XPATH, \"//a [@class='js-navigation-open Link--primary']\")[1]"
   ]
  },
  {
   "cell_type": "code",
   "execution_count": null,
   "id": "274e127c",
   "metadata": {},
   "outputs": [],
   "source": [
    "# cycle through the remaining files except Readme\n",
    "for i in range(1, len(driver.find_elements(By.XPATH, \"//span[@class='PRIVATE_TreeView-item-content-text']\"))-1):\n",
    "    # link creates the directional path for the next selected file and clicks on each page\n",
    "    link = driver.find_elements(By.XPATH, \"//span[@class='PRIVATE_TreeView-item-content-text']\")[i+1]\n",
    "    ActionChains(driver).move_to_element(link).perform()\n",
    "    link.click()\n",
    "\n",
    "    # selects dowload button and downloads file\n",
    "    dlbutton = driver.find_elements(By.XPATH, \"//button[@data-component='IconButton']\")[6]\n",
    "\n",
    "    ActionChains(driver).move_to_element(dlbutton).perform()\n",
    "\n",
    "    # download the file\n",
    "    dlbutton.click()\n",
    "    t.sleep(2)"
   ]
  }
 ],
 "metadata": {
  "kernelspec": {
   "display_name": "Python 3 (ipykernel)",
   "language": "python",
   "name": "python3"
  },
  "language_info": {
   "codemirror_mode": {
    "name": "ipython",
    "version": 3
   },
   "file_extension": ".py",
   "mimetype": "text/x-python",
   "name": "python",
   "nbconvert_exporter": "python",
   "pygments_lexer": "ipython3",
   "version": "3.9.13"
  }
 },
 "nbformat": 4,
 "nbformat_minor": 5
}
